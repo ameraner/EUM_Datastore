{
 "cells": [
  {
   "cell_type": "code",
   "execution_count": null,
   "metadata": {},
   "outputs": [],
   "source": [
    "from datetime import datetime, timedelta\n",
    "import DS_Utils as DSU"
   ]
  },
  {
   "cell_type": "code",
   "execution_count": null,
   "metadata": {},
   "outputs": [],
   "source": [
    "# First, get the service URLS\n",
    "service_search, service_download = DSU.default_services()"
   ]
  },
  {
   "cell_type": "code",
   "execution_count": null,
   "metadata": {},
   "outputs": [],
   "source": [
    "# Place your EUMETSAT data access key here\n",
    "eum_access_key = None # eg: 'fkljgf0945jlkfdjvdsl;fjgvc034m9j4gmkljfdj'"
   ]
  },
  {
   "cell_type": "code",
   "execution_count": null,
   "metadata": {},
   "outputs": [],
   "source": [
    "# Get a dict containing names and details of all available collections,\n",
    "# useful for finding which collection we need\n",
    "collection_dict = DSU.retrieve_collection_dict()\n",
    "\n",
    "# And print the collection names:\n",
    "for curkey in collection_dict.keys():\n",
    "    print(curkey)\n",
    "    \n",
    "# Commonly used collections are:\n",
    "# Meteosat PRIME L1:               EO:EUM:DAT:MSG:HRSEVIRI\n",
    "# Meteosat IODC L1:                EO:EUM:DAT:MSG:HRSEVIRI-IODC\n",
    "# Meteosat RSS L1:                 EO:EUM:DAT:MSG:MSG15-RSS \n",
    "# IASI L1c all spectral samples:   EO:EUM:DAT:METOP:IASIL1C-ALL"
   ]
  },
  {
   "cell_type": "code",
   "execution_count": null,
   "metadata": {},
   "outputs": [],
   "source": [
    "# We can get additional information on a collection via:\n",
    "print(collection_dict['EO:EUM:DAT:MSG:MSG15-RSS'])"
   ]
  },
  {
   "cell_type": "code",
   "execution_count": null,
   "metadata": {},
   "outputs": [],
   "source": [
    "# Select our collection\n",
    "collection_name = 'EO:EUM:DAT:METOP:IASIL1C-ALL'\n",
    "\n",
    "# The name of the directory where we'll be saving the downloaded files\n",
    "output_dir = './'\n",
    "\n",
    "# Define our start and end dates for temporal subsetting\n",
    "start_date = datetime(2020, 9, 1, 12, 0, 0)\n",
    "end_date = datetime(2020, 9, 1, 12, 59, 59)\n",
    "\n",
    "# Boundary box that we'll search in. Format: [[min_lon, min_lat], [max_lon, max_lat]]\n",
    "coordinates = [[-20, 30], [50, 80]]"
   ]
  },
  {
   "cell_type": "code",
   "execution_count": null,
   "metadata": {},
   "outputs": [],
   "source": [
    "# Search the data store for suitable files\n",
    "datasets = DSU.find_files_on_store(start_date,\n",
    "                                   end_date,\n",
    "                                   service_search,\n",
    "                                   collection_name,\n",
    "                                   bbox=coordinates)"
   ]
  },
  {
   "cell_type": "code",
   "execution_count": null,
   "metadata": {},
   "outputs": [],
   "source": [
    "# Finally, download the files to our computer\n",
    "DSU.download_files(datasets,\n",
    "                   service_download,\n",
    "                   output_dir='./',\n",
    "                   eum_access_key=eum_access_key,\n",
    "                   verbose=True)"
   ]
  }
 ],
 "metadata": {
  "kernelspec": {
   "display_name": "Python 3",
   "language": "python",
   "name": "python3"
  },
  "language_info": {
   "codemirror_mode": {
    "name": "ipython",
    "version": 3
   },
   "file_extension": ".py",
   "mimetype": "text/x-python",
   "name": "python",
   "nbconvert_exporter": "python",
   "pygments_lexer": "ipython3",
   "version": "3.8.6"
  }
 },
 "nbformat": 4,
 "nbformat_minor": 4
}
